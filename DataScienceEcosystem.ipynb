{
 "cells": [
  {
   "cell_type": "markdown",
   "id": "1add48a7-514f-49cb-aab5-b6eaeca99755",
   "metadata": {
    "tags": []
   },
   "source": [
    "# Data Science Tools and Ecosystem"
   ]
  },
  {
   "cell_type": "markdown",
   "id": "e2180314-838a-4232-8a54-7ff98a7f1ac2",
   "metadata": {},
   "source": [
    "In this notebook, Data Science Tools and Ecosystem are summarized."
   ]
  },
  {
   "cell_type": "markdown",
   "id": "d07d759c-c472-49a1-99f0-e43a848d795d",
   "metadata": {},
   "source": [
    "**Objectives:**\n",
    "\n",
    "* Julia\n",
    "* Javascrip\n",
    "* Scala\n",
    "* Java"
   ]
  },
  {
   "cell_type": "markdown",
   "id": "6e8e202b-073b-484f-a439-3c5cef2ffae0",
   "metadata": {},
   "source": [
    "Some of the popular languages that Data Scientists use are:"
   ]
  },
  {
   "cell_type": "markdown",
   "id": "0d00abb4-3c56-45d1-9240-e401abfcbbc8",
   "metadata": {
    "tags": []
   },
   "source": [
    "1. R\n",
    "2. Julia\n",
    "3. JavaScript\n",
    "4. Scala\n",
    "5. Java"
   ]
  },
  {
   "cell_type": "markdown",
   "id": "71a1e7d5-76ab-42dd-b4b7-1e217b3725d8",
   "metadata": {},
   "source": [
    "Some of the commonly used libraries used by Data Scientists include:\n",
    "\n",
    "    1. Numpy\n",
    "    2. Keras\n",
    "    3. Pytorch\n",
    "    4. Tensorflow\n",
    "    5. Matplotlib"
   ]
  },
  {
   "cell_type": "markdown",
   "id": "fe15445b-ff81-4354-98df-ed8c18a49a70",
   "metadata": {
    "tags": []
   },
   "source": [
    "| Data Science Tools |\n",
    "|------------------- |\n",
    "|Visual Studio Code (VS Code)|\n",
    "|Eclipse           |\n",
    "|Atom          |"
   ]
  },
  {
   "cell_type": "markdown",
   "id": "7b193095-3809-4077-a2ac-4f4dbe065c9b",
   "metadata": {},
   "source": [
    "### Below are a few examples of evaluating arithmetic expressions in Python"
   ]
  },
  {
   "cell_type": "code",
   "execution_count": 19,
   "id": "7068fe49-faaf-4777-82c8-afbbb0b17cdc",
   "metadata": {
    "tags": []
   },
   "outputs": [
    {
     "data": {
      "text/plain": [
       "17"
      ]
     },
     "execution_count": 19,
     "metadata": {},
     "output_type": "execute_result"
    }
   ],
   "source": [
    "# This a simple arithmetic expression to mutiply then add integers\n",
    "(3*4)+5"
   ]
  },
  {
   "cell_type": "code",
   "execution_count": 20,
   "id": "08b3860f-144f-4eee-bc9d-3ffb9563f9a5",
   "metadata": {
    "tags": []
   },
   "outputs": [
    {
     "data": {
      "text/plain": [
       "3.3333333333333335"
      ]
     },
     "execution_count": 20,
     "metadata": {},
     "output_type": "execute_result"
    }
   ],
   "source": [
    "# This will convert 200 minutes to hours by diving by 60\n",
    "\n",
    "200/60"
   ]
  },
  {
   "cell_type": "markdown",
   "id": "717a0a66-48c6-4fe8-ab50-543dfdf25aa3",
   "metadata": {
    "tags": []
   },
   "source": [
    "## Author\n",
    "\n",
    "Anderson Caicedo"
   ]
  }
 ],
 "metadata": {
  "kernelspec": {
   "display_name": "Python",
   "language": "python",
   "name": "conda-env-python-py"
  },
  "language_info": {
   "codemirror_mode": {
    "name": "ipython",
    "version": 3
   },
   "file_extension": ".py",
   "mimetype": "text/x-python",
   "name": "python",
   "nbconvert_exporter": "python",
   "pygments_lexer": "ipython3",
   "version": "3.7.12"
  }
 },
 "nbformat": 4,
 "nbformat_minor": 5
}
